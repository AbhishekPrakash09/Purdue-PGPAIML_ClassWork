{
 "cells": [
  {
   "cell_type": "markdown",
   "id": "be76ef33",
   "metadata": {},
   "source": [
    "### 1. Import the required libraries"
   ]
  },
  {
   "cell_type": "code",
   "execution_count": 1,
   "id": "8cb5fb83",
   "metadata": {},
   "outputs": [],
   "source": [
    "import numpy as np\n",
    "from tensorflow.keras.models import Model, Sequential\n",
    "from tensorflow.keras.layers import Input, Convolution2D, MaxPooling2D, Flatten, Dense, Activation\n",
    "import matplotlib.pyplot as plt\n",
    "from sklearn.model_selection import train_test_split"
   ]
  },
  {
   "cell_type": "markdown",
   "id": "3954eff6",
   "metadata": {},
   "source": [
    "### 2. Load the dataset after loading the dataset, you have to normalize every image"
   ]
  },
  {
   "cell_type": "code",
   "execution_count": 2,
   "id": "75534995",
   "metadata": {},
   "outputs": [
    {
     "data": {
      "text/plain": [
       "<numpy.lib.npyio.NpzFile at 0x201fb070c70>"
      ]
     },
     "execution_count": 2,
     "metadata": {},
     "output_type": "execute_result"
    }
   ],
   "source": [
    "data = np.load('ORL_faces.npz')\n",
    "data"
   ]
  },
  {
   "cell_type": "markdown",
   "id": "3e13af5a",
   "metadata": {},
   "source": [
    "#### Analysing the data to extract and utilize it appropriately"
   ]
  },
  {
   "cell_type": "code",
   "execution_count": 3,
   "id": "22cf48ef",
   "metadata": {},
   "outputs": [
    {
     "data": {
      "text/plain": [
       "['testY', 'testX', 'trainX', 'trainY']"
      ]
     },
     "execution_count": 3,
     "metadata": {},
     "output_type": "execute_result"
    }
   ],
   "source": [
    "data.files"
   ]
  },
  {
   "cell_type": "code",
   "execution_count": 4,
   "id": "5295bf89",
   "metadata": {},
   "outputs": [
    {
     "name": "stdout",
     "output_type": "stream",
     "text": [
      "(240, 10304)\n",
      "[48. 49. 45. ... 47. 46. 46.]\n",
      "(160, 10304)\n",
      "[41. 47. 47. ... 35. 37. 38.]\n"
     ]
    }
   ],
   "source": [
    "x_train = data['trainX']\n",
    "y_train = data['trainY']\n",
    "x_test = data['testX']\n",
    "y_test = data['testY']\n",
    "\n",
    "print(x_train.shape)\n",
    "print(x_train[0])\n",
    "print(x_test.shape)\n",
    "print(x_test[0])"
   ]
  },
  {
   "cell_type": "code",
   "execution_count": 5,
   "id": "662848f3",
   "metadata": {},
   "outputs": [
    {
     "name": "stdout",
     "output_type": "stream",
     "text": [
      "(240,)\n",
      "[ 0  0  0  0  0  0  0  0  0  0  0  0  1  1  1  1  1  1  1  1  1  1  1  1\n",
      "  2  2  2  2  2  2  2  2  2  2  2  2  3  3  3  3  3  3  3  3  3  3  3  3\n",
      "  4  4  4  4  4  4  4  4  4  4  4  4  5  5  5  5  5  5  5  5  5  5  5  5\n",
      "  6  6  6  6  6  6  6  6  6  6  6  6  7  7  7  7  7  7  7  7  7  7  7  7\n",
      "  8  8  8  8  8  8  8  8  8  8  8  8  9  9  9  9  9  9  9  9  9  9  9  9\n",
      " 10 10 10 10 10 10 10 10 10 10 10 10 11 11 11 11 11 11 11 11 11 11 11 11\n",
      " 12 12 12 12 12 12 12 12 12 12 12 12 13 13 13 13 13 13 13 13 13 13 13 13\n",
      " 14 14 14 14 14 14 14 14 14 14 14 14 15 15 15 15 15 15 15 15 15 15 15 15\n",
      " 16 16 16 16 16 16 16 16 16 16 16 16 17 17 17 17 17 17 17 17 17 17 17 17\n",
      " 18 18 18 18 18 18 18 18 18 18 18 18 19 19 19 19 19 19 19 19 19 19 19 19]\n",
      "(160,)\n",
      "[ 0  0  0  0  0  0  0  0  1  1  1  1  1  1  1  1  2  2  2  2  2  2  2  2\n",
      "  3  3  3  3  3  3  3  3  4  4  4  4  4  4  4  4  5  5  5  5  5  5  5  5\n",
      "  6  6  6  6  6  6  6  6  7  7  7  7  7  7  7  7  8  8  8  8  8  8  8  8\n",
      "  9  9  9  9  9  9  9  9 10 10 10 10 10 10 10 10 11 11 11 11 11 11 11 11\n",
      " 12 12 12 12 12 12 12 12 13 13 13 13 13 13 13 13 14 14 14 14 14 14 14 14\n",
      " 15 15 15 15 15 15 15 15 16 16 16 16 16 16 16 16 17 17 17 17 17 17 17 17\n",
      " 18 18 18 18 18 18 18 18 19 19 19 19 19 19 19 19]\n"
     ]
    }
   ],
   "source": [
    "print(y_train.shape)\n",
    "print(y_train)\n",
    "print(y_test.shape)\n",
    "print(y_test)"
   ]
  },
  {
   "cell_type": "markdown",
   "id": "f67b3e6c",
   "metadata": {},
   "source": [
    "#### <span style = 'color:blue'>We have 400 images of 20 types, split into training (240 images) & testing data (160 images)</span>"
   ]
  },
  {
   "cell_type": "markdown",
   "id": "a308aed3",
   "metadata": {},
   "source": [
    "#### Normalizing the images"
   ]
  },
  {
   "cell_type": "code",
   "execution_count": 6,
   "id": "79aebff6",
   "metadata": {},
   "outputs": [],
   "source": [
    "x_train = np.array(x_train,dtype='float32')/255\n",
    "x_test = np.array(x_test,dtype='float32')/255"
   ]
  },
  {
   "cell_type": "markdown",
   "id": "fffec40f",
   "metadata": {},
   "source": [
    "### 3. Split the dataset"
   ]
  },
  {
   "cell_type": "code",
   "execution_count": 7,
   "id": "987f9e8f",
   "metadata": {},
   "outputs": [],
   "source": [
    "x_train, x_validation, y_train, y_validation = train_test_split(x_train, y_train, test_size=0.1, random_state=1)"
   ]
  },
  {
   "cell_type": "markdown",
   "id": "138929f2",
   "metadata": {},
   "source": [
    "### 4. Transform the images to equal sizes to feed in CNN\n",
    "\n",
    "Note: All images are of size 112 * 92, and image array size is 10304 (112 * 92 = 10304)"
   ]
  },
  {
   "cell_type": "code",
   "execution_count": 8,
   "id": "841540be",
   "metadata": {},
   "outputs": [
    {
     "name": "stdout",
     "output_type": "stream",
     "text": [
      "[[0.44705883 0.43137255 0.44705883 ... 0.44705883 0.43137255 0.43529412]\n",
      " [0.43137255 0.44705883 0.42745098 ... 0.42745098 0.42352942 0.44313726]\n",
      " [0.4392157  0.4392157  0.44313726 ... 0.4392157  0.4392157  0.4392157 ]\n",
      " ...\n",
      " [0.20392157 0.21176471 0.20392157 ... 0.38431373 0.38039216 0.39215687]\n",
      " [0.18431373 0.22745098 0.18431373 ... 0.38039216 0.38431373 0.36862746]\n",
      " [0.1882353  0.20784314 0.22352941 ... 0.40784314 0.3529412  0.39607844]]\n",
      "(112, 92)\n"
     ]
    }
   ],
   "source": [
    "r = 112\n",
    "c = 92\n",
    "\n",
    "x_train = x_train.reshape(x_train.shape[0], r, c)\n",
    "x_validation = x_validation.reshape(x_validation.shape[0], r, c)\n",
    "x_test = x_test.reshape(x_test.shape[0], r, c)\n",
    "\n",
    "print(x_train[0])\n",
    "print(x_train[0].shape)"
   ]
  },
  {
   "cell_type": "markdown",
   "id": "4f4747aa",
   "metadata": {},
   "source": [
    "### 5. Build a CNN model that has 3 main layers:\n",
    "\n",
    "    i.   Convolutional Layer\n",
    "    ii.  Pooling Layer\n",
    "    iii. Fully Connected Layer"
   ]
  },
  {
   "cell_type": "code",
   "execution_count": 9,
   "id": "e49fb7b4",
   "metadata": {},
   "outputs": [
    {
     "name": "stdout",
     "output_type": "stream",
     "text": [
      "Model: \"sequential\"\n",
      "_________________________________________________________________\n",
      " Layer (type)                Output Shape              Param #   \n",
      "=================================================================\n",
      " conv2d (Conv2D)             (None, 110, 90, 64)       640       \n",
      "                                                                 \n",
      " max_pooling2d (MaxPooling2D  (None, 55, 45, 64)       0         \n",
      " )                                                               \n",
      "                                                                 \n",
      " flatten (Flatten)           (None, 158400)            0         \n",
      "                                                                 \n",
      " dense (Dense)               (None, 256)               40550656  \n",
      "                                                                 \n",
      " dense_1 (Dense)             (None, 20)                5140      \n",
      "                                                                 \n",
      "=================================================================\n",
      "Total params: 40,556,436\n",
      "Trainable params: 40,556,436\n",
      "Non-trainable params: 0\n",
      "_________________________________________________________________\n"
     ]
    }
   ],
   "source": [
    "#Initializing the CNN model\n",
    "model = Sequential()\n",
    "\n",
    "#Convolution layer that takes input of size 112,92,1 \n",
    "model.add(Convolution2D(64, kernel_size=(3,3), activation='relu', input_shape = (112,92,1)))\n",
    "\n",
    "#Max pooling layer\n",
    "model.add(MaxPooling2D(2,2))\n",
    "\n",
    "#Flattening before passing through the dense layer\n",
    "model.add(Flatten())\n",
    "model.add(Dense(256, activation='relu'))\n",
    "\n",
    "#Output layer for 20 classes\n",
    "model.add(Dense(20, activation='softmax')) \n",
    "\n",
    "#Compile the model\n",
    "model.compile(loss = 'sparse_categorical_crossentropy',\n",
    "              optimizer = 'adam',\n",
    "              metrics = ['accuracy'])\n",
    "\n",
    "model.summary()"
   ]
  },
  {
   "cell_type": "markdown",
   "id": "c546ec32",
   "metadata": {},
   "source": [
    "### 6. Train the model"
   ]
  },
  {
   "cell_type": "code",
   "execution_count": 10,
   "id": "8dd39625",
   "metadata": {},
   "outputs": [
    {
     "name": "stdout",
     "output_type": "stream",
     "text": [
      "Epoch 1/25\n",
      "4/4 - 4s - loss: 10.6531 - accuracy: 0.0602 - val_loss: 12.3869 - val_accuracy: 0.0000e+00 - 4s/epoch - 1s/step\n",
      "Epoch 2/25\n",
      "4/4 - 2s - loss: 7.9074 - accuracy: 0.0880 - val_loss: 5.1888 - val_accuracy: 0.1667 - 2s/epoch - 594ms/step\n",
      "Epoch 3/25\n",
      "4/4 - 2s - loss: 4.6051 - accuracy: 0.1343 - val_loss: 3.9527 - val_accuracy: 0.2083 - 2s/epoch - 596ms/step\n",
      "Epoch 4/25\n",
      "4/4 - 2s - loss: 3.0596 - accuracy: 0.2639 - val_loss: 2.9491 - val_accuracy: 0.2083 - 2s/epoch - 592ms/step\n",
      "Epoch 5/25\n",
      "4/4 - 2s - loss: 2.3300 - accuracy: 0.3426 - val_loss: 2.3181 - val_accuracy: 0.3333 - 2s/epoch - 607ms/step\n",
      "Epoch 6/25\n",
      "4/4 - 3s - loss: 1.7994 - accuracy: 0.5509 - val_loss: 2.3028 - val_accuracy: 0.3333 - 3s/epoch - 677ms/step\n",
      "Epoch 7/25\n",
      "4/4 - 2s - loss: 1.3753 - accuracy: 0.7315 - val_loss: 1.6834 - val_accuracy: 0.6250 - 2s/epoch - 513ms/step\n",
      "Epoch 8/25\n",
      "4/4 - 2s - loss: 0.9676 - accuracy: 0.9074 - val_loss: 1.2672 - val_accuracy: 0.8750 - 2s/epoch - 596ms/step\n",
      "Epoch 9/25\n",
      "4/4 - 2s - loss: 0.7016 - accuracy: 0.9676 - val_loss: 0.8666 - val_accuracy: 1.0000 - 2s/epoch - 585ms/step\n",
      "Epoch 10/25\n",
      "4/4 - 2s - loss: 0.4594 - accuracy: 1.0000 - val_loss: 0.8023 - val_accuracy: 0.9167 - 2s/epoch - 594ms/step\n",
      "Epoch 11/25\n",
      "4/4 - 2s - loss: 0.3070 - accuracy: 0.9722 - val_loss: 0.6121 - val_accuracy: 0.9167 - 2s/epoch - 564ms/step\n",
      "Epoch 12/25\n",
      "4/4 - 2s - loss: 0.1834 - accuracy: 1.0000 - val_loss: 0.4256 - val_accuracy: 1.0000 - 2s/epoch - 492ms/step\n",
      "Epoch 13/25\n",
      "4/4 - 2s - loss: 0.1186 - accuracy: 1.0000 - val_loss: 0.3858 - val_accuracy: 1.0000 - 2s/epoch - 487ms/step\n",
      "Epoch 14/25\n",
      "4/4 - 2s - loss: 0.0794 - accuracy: 1.0000 - val_loss: 0.2986 - val_accuracy: 1.0000 - 2s/epoch - 482ms/step\n",
      "Epoch 15/25\n",
      "4/4 - 2s - loss: 0.0557 - accuracy: 1.0000 - val_loss: 0.2572 - val_accuracy: 1.0000 - 2s/epoch - 487ms/step\n",
      "Epoch 16/25\n",
      "4/4 - 2s - loss: 0.0408 - accuracy: 1.0000 - val_loss: 0.1950 - val_accuracy: 1.0000 - 2s/epoch - 478ms/step\n",
      "Epoch 17/25\n",
      "4/4 - 2s - loss: 0.0293 - accuracy: 1.0000 - val_loss: 0.1551 - val_accuracy: 1.0000 - 2s/epoch - 499ms/step\n",
      "Epoch 18/25\n",
      "4/4 - 2s - loss: 0.0233 - accuracy: 1.0000 - val_loss: 0.1513 - val_accuracy: 1.0000 - 2s/epoch - 492ms/step\n",
      "Epoch 19/25\n",
      "4/4 - 2s - loss: 0.0184 - accuracy: 1.0000 - val_loss: 0.1474 - val_accuracy: 1.0000 - 2s/epoch - 487ms/step\n",
      "Epoch 20/25\n",
      "4/4 - 2s - loss: 0.0157 - accuracy: 1.0000 - val_loss: 0.1325 - val_accuracy: 1.0000 - 2s/epoch - 493ms/step\n",
      "Epoch 21/25\n",
      "4/4 - 2s - loss: 0.0137 - accuracy: 1.0000 - val_loss: 0.1164 - val_accuracy: 1.0000 - 2s/epoch - 495ms/step\n",
      "Epoch 22/25\n",
      "4/4 - 2s - loss: 0.0119 - accuracy: 1.0000 - val_loss: 0.1075 - val_accuracy: 1.0000 - 2s/epoch - 540ms/step\n",
      "Epoch 23/25\n",
      "4/4 - 2s - loss: 0.0106 - accuracy: 1.0000 - val_loss: 0.1030 - val_accuracy: 1.0000 - 2s/epoch - 508ms/step\n",
      "Epoch 24/25\n",
      "4/4 - 2s - loss: 0.0098 - accuracy: 1.0000 - val_loss: 0.1034 - val_accuracy: 1.0000 - 2s/epoch - 491ms/step\n",
      "Epoch 25/25\n",
      "4/4 - 2s - loss: 0.0090 - accuracy: 1.0000 - val_loss: 0.0982 - val_accuracy: 1.0000 - 2s/epoch - 484ms/step\n",
      "Test loss: 0.30019694566726685\n",
      "Test accuracy: 0.9312499761581421\n"
     ]
    }
   ],
   "source": [
    "batch_size = 64\n",
    "epochs = 25\n",
    "\n",
    "history = model.fit(x_train,\n",
    "                    y_train,\n",
    "                    batch_size = batch_size,\n",
    "                    epochs = epochs,\n",
    "                    verbose = 2,\n",
    "                    validation_data = (x_validation, y_validation))\n",
    "\n",
    "# Accuracy score using the evalute function\n",
    "score = model.evaluate(x_test, y_test, verbose=0)\n",
    "print('Test loss:', score[0])\n",
    "print('Test accuracy:', score[1])"
   ]
  },
  {
   "cell_type": "markdown",
   "id": "9056b83b",
   "metadata": {},
   "source": [
    "### 7. Plot the result\n",
    "\n",
    "Plotting the loss"
   ]
  },
  {
   "cell_type": "code",
   "execution_count": 11,
   "id": "d7978c26",
   "metadata": {},
   "outputs": [
    {
     "data": {
      "image/png": "[encoded data removed]",
      "text/plain": [
       "<Figure size 432x288 with 1 Axes>"
      ]
     },
     "metadata": {
      "needs_background": "light"
     },
     "output_type": "display_data"
    }
   ],
   "source": [
    "history_dict = history.history\n",
    "\n",
    "# Extract the loss and validation losses\n",
    "loss_values = history_dict['loss']\n",
    "val_loss_values = history_dict['val_loss']\n",
    "\n",
    "# Get the number of epochs and create an array up to that number using range()\n",
    "epochs = range(1, len(loss_values) + 1)\n",
    "\n",
    "# Plot line charts for both Validation and Training Loss\n",
    "line1 = plt.plot(epochs, val_loss_values, label='Validation/Test Loss')\n",
    "line2 = plt.plot(epochs, loss_values, label='Training Loss')\n",
    "plt.setp(line1, linewidth=2.0, marker = '+', markersize=10.0)\n",
    "plt.setp(line2, linewidth=2.0, marker = '4', markersize=10.0)\n",
    "plt.xlabel('Epochs') \n",
    "plt.ylabel('Loss')\n",
    "plt.grid(True)\n",
    "plt.legend()\n",
    "plt.show()"
   ]
  },
  {
   "cell_type": "markdown",
   "id": "56ce3877",
   "metadata": {},
   "source": [
    "Plotting the accuracy values"
   ]
  },
  {
   "cell_type": "code",
   "execution_count": 12,
   "id": "6daf86a9",
   "metadata": {},
   "outputs": [
    {
     "data": {
      "image/png": "[encoded data removed]",
      "text/plain": [
       "<Figure size 432x288 with 1 Axes>"
      ]
     },
     "metadata": {
      "needs_background": "light"
     },
     "output_type": "display_data"
    }
   ],
   "source": [
    "acc_values = history_dict['accuracy']\n",
    "val_acc_values = history_dict['val_accuracy']\n",
    "epochs = range(1, len(loss_values) + 1)\n",
    "\n",
    "line1 = plt.plot(epochs, val_acc_values, label='Validation/Test Accuracy')\n",
    "line2 = plt.plot(epochs, acc_values, label='Training Accuracy')\n",
    "plt.setp(line1, linewidth=2.0, marker = '+', markersize=10.0)\n",
    "plt.setp(line2, linewidth=2.0, marker = '4', markersize=10.0)\n",
    "plt.xlabel('Epochs') \n",
    "plt.ylabel('Accuracy')\n",
    "plt.grid(True)\n",
    "plt.legend()\n",
    "plt.show()"
   ]
  },
  {
   "cell_type": "markdown",
   "id": "2313458a",
   "metadata": {},
   "source": [
    "### 8. Iterate the model until the accuracy is above 90%\n",
    "\n",
    "#### <span style ='color:blue'>The test accuracy of the above model is already above 93%</span>"
   ]
  },
  {
   "cell_type": "code",
   "execution_count": 13,
   "id": "9d1b3472",
   "metadata": {},
   "outputs": [
    {
     "name": "stdout",
     "output_type": "stream",
     "text": [
      "Test accuracy: 93.12 %\n"
     ]
    }
   ],
   "source": [
    "print('Test accuracy:', round(score[1]*100, 2),'%')"
   ]
  }
 ],
 "metadata": {
  "kernelspec": {
   "display_name": "Python 3 (ipykernel)",
   "language": "python",
   "name": "python3"
  },
  "language_info": {
   "codemirror_mode": {
    "name": "ipython",
    "version": 3
   },
   "file_extension": ".py",
   "mimetype": "text/x-python",
   "name": "python",
   "nbconvert_exporter": "python",
   "pygments_lexer": "ipython3",
   "version": "3.9.12"
  }
 },
 "nbformat": 4,
 "nbformat_minor": 5
}
